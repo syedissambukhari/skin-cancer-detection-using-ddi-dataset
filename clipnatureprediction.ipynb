{
 "cells": [
  {
   "cell_type": "code",
   "execution_count": null,
   "id": "3030acc4",
   "metadata": {},
   "outputs": [],
   "source": [
    "import cv2\n",
    "import torch\n",
    "import torch.nn as nn\n",
    "import clip\n",
    "import numpy as np\n",
    "from torchvision import transforms\n",
    "\n",
    "# Load the fine-tuned CLIP model and tokenizer\n",
    "device = \"cuda\" if torch.cuda.is_available() else \"cpu\"\n",
    "model, preprocess = clip.load('ViT-B/32', device)\n",
    "\n",
    "# Define the classification head\n",
    "num_classes = 2  # Replace with the number of classes in your dataset\n",
    "classifier_head = nn.Linear(512, num_classes).to(device)\n",
    "classifier_head.load_state_dict(torch.load('nature_model.pt'))\n",
    "classifier_head.eval()\n",
    "\n",
    "# Define the mapping between class indices and class labels\n",
    "class_mapping = {\n",
    "    0: \"Islamophobic Image\",\n",
    "    1: \"Non Islamophobic Image\",\n",
    "}\n",
    "\n",
    "# Define the transformation to normalize and convert image to tensor\n",
    "transform = transforms.Compose([\n",
    "    transforms.ToTensor(),\n",
    "    transforms.Normalize(mean=[0.5, 0.5, 0.5], std=[0.5, 0.5, 0.5])\n",
    "])\n",
    "\n",
    "# Function to predict the class of an image\n",
    "def predict_class(image_path):\n",
    "    image = cv2.imread(image_path)\n",
    "    image = cv2.resize(image, (224, 224))  # Resize image to fit CLIP model input shape\n",
    "    image = transform(image).unsqueeze(0).to(device)  # Convert image to tensor and add batch dimension\n",
    "\n",
    "    with torch.no_grad():\n",
    "        image_features = model.encode_image(image)\n",
    "\n",
    "    # Convert the data type of image_features to match the classifier's weight matrix\n",
    "    image_features = image_features.to(classifier_head.weight.dtype)\n",
    "\n",
    "    logits = classifier_head(image_features)\n",
    "    probabilities = nn.functional.softmax(logits, dim=1)\n",
    "    predicted_class_index = torch.argmax(probabilities, dim=1).item()\n",
    "    predicted_class_label = class_mapping[predicted_class_index]\n",
    "    \n",
    "    return predicted_class_label\n",
    "\n",
    "# Test the prediction function\n",
    "image_path = 'cnn_dataset/Islamophobic image/islamophobic (1).jpg'  # Replace with the path to your test image\n",
    "predicted_class = predict_class(image_path)\n",
    "\n",
    "print(f\"Predicted Class: {predicted_class}\")\n"
   ]
  }
 ],
 "metadata": {
  "kernelspec": {
   "display_name": "Python 3 (ipykernel)",
   "language": "python",
   "name": "python3"
  },
  "language_info": {
   "codemirror_mode": {
    "name": "ipython",
    "version": 3
   },
   "file_extension": ".py",
   "mimetype": "text/x-python",
   "name": "python",
   "nbconvert_exporter": "python",
   "pygments_lexer": "ipython3",
   "version": "3.10.9"
  }
 },
 "nbformat": 4,
 "nbformat_minor": 5
}
