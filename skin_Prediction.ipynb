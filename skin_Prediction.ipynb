{
 "cells": [
  {
   "cell_type": "code",
   "execution_count": 24,
   "id": "874d4ed8",
   "metadata": {},
   "outputs": [
    {
     "name": "stdout",
     "output_type": "stream",
     "text": [
      "1/1 [==============================] - 0s 130ms/step\n",
      "Predicted class: benign\n",
      "Confidence: 95.63\n"
     ]
    }
   ],
   "source": [
    "import tensorflow as tf\n",
    "import numpy as np\n",
    "\n",
    "# Load the saved model\n",
    "model = tf.keras.models.load_model(\"skin88.h5\")\n",
    "class_names = [ \"benign\",\"malignant\"]  # Update with your class names\n",
    "\n",
    "def preprocess_image(image_path):\n",
    "    image = tf.keras.preprocessing.image.load_img(\n",
    "        image_path, target_size=(224, 224)\n",
    "    )\n",
    "    image_array = tf.keras.preprocessing.image.img_to_array(image)\n",
    "    image_array = tf.expand_dims(image_array, 0)\n",
    "    return image_array\n",
    "\n",
    "def predict_image(image_path):\n",
    "    image_array = preprocess_image(image_path)\n",
    "    predictions = model.predict(image_array)\n",
    "    predicted_class_index = np.argmax(predictions[0])\n",
    "    predicted_class = class_names[predicted_class_index]\n",
    "    confidence = round(100 * np.max(predictions[0]), 2)\n",
    "    return predicted_class, confidence\n",
    "\n",
    "# Example usage\n",
    "image_path = \"3.jpg\"\n",
    "predicted_class, confidence = predict_image(image_path)\n",
    "print(\"Predicted class:\", predicted_class)\n",
    "print(\"Confidence:\", confidence)\n"
   ]
  },
  {
   "cell_type": "code",
   "execution_count": 25,
   "id": "0ce40dba",
   "metadata": {},
   "outputs": [
    {
     "name": "stdout",
     "output_type": "stream",
     "text": [
      "1/1 [==============================] - 0s 156ms/step\n",
      "Predicted class: malignant\n",
      "Confidence: 93.77\n"
     ]
    }
   ],
   "source": [
    "import tensorflow as tf\n",
    "import numpy as np\n",
    "\n",
    "# Load the saved model\n",
    "model = tf.keras.models.load_model(\"skin88.h5\")\n",
    "class_names = [ \"benign\",\"malignant\"]  # Update with your class names\n",
    "\n",
    "def preprocess_image(image_path):\n",
    "    image = tf.keras.preprocessing.image.load_img(\n",
    "        image_path, target_size=(224, 224)\n",
    "    )\n",
    "    image_array = tf.keras.preprocessing.image.img_to_array(image)\n",
    "    image_array = tf.expand_dims(image_array, 0)\n",
    "    return image_array\n",
    "\n",
    "def predict_image(image_path):\n",
    "    image_array = preprocess_image(image_path)\n",
    "    predictions = model.predict(image_array)\n",
    "    predicted_class_index = np.argmax(predictions[0])\n",
    "    predicted_class = class_names[predicted_class_index]\n",
    "    confidence = round(100 * np.max(predictions[0]), 2)\n",
    "    return predicted_class, confidence\n",
    "\n",
    "# Example usage\n",
    "image_path = \"4.jpg\"\n",
    "predicted_class, confidence = predict_image(image_path)\n",
    "print(\"Predicted class:\", predicted_class)\n",
    "print(\"Confidence:\", confidence)\n"
   ]
  },
  {
   "cell_type": "code",
   "execution_count": null,
   "id": "bb61cb71",
   "metadata": {},
   "outputs": [],
   "source": []
  }
 ],
 "metadata": {
  "kernelspec": {
   "display_name": "Python 3 (ipykernel)",
   "language": "python",
   "name": "python3"
  },
  "language_info": {
   "codemirror_mode": {
    "name": "ipython",
    "version": 3
   },
   "file_extension": ".py",
   "mimetype": "text/x-python",
   "name": "python",
   "nbconvert_exporter": "python",
   "pygments_lexer": "ipython3",
   "version": "3.10.9"
  }
 },
 "nbformat": 4,
 "nbformat_minor": 5
}
